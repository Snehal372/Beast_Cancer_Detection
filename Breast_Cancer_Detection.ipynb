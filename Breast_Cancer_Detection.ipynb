{
  "nbformat": 4,
  "nbformat_minor": 0,
  "metadata": {
    "colab": {
      "name": "Breast_Cancer_Detection.ipynb",
      "provenance": [],
      "collapsed_sections": []
    },
    "kernelspec": {
      "name": "python3",
      "display_name": "Python 3"
    },
    "language_info": {
      "name": "python"
    }
  },
  "cells": [
    {
      "cell_type": "markdown",
      "metadata": {
        "id": "9Sr8XGxfQql4"
      },
      "source": [
        "# **Breast Cancer Detection**"
      ]
    },
    {
      "cell_type": "markdown",
      "metadata": {
        "id": "JATG9iFAdMzO"
      },
      "source": [
        "### Importing Libraries"
      ]
    },
    {
      "cell_type": "code",
      "metadata": {
        "id": "_bIQnODbOrD3"
      },
      "source": [
        "import pandas as pd\n",
        "import numpy as np"
      ],
      "execution_count": 12,
      "outputs": []
    },
    {
      "cell_type": "code",
      "metadata": {
        "id": "uzGRCtLrQCqD"
      },
      "source": [
        "from sklearn.datasets import load_breast_cancer\n",
        "from sklearn.preprocessing import StandardScaler"
      ],
      "execution_count": 13,
      "outputs": []
    },
    {
      "cell_type": "code",
      "metadata": {
        "id": "ivYHeSKdQgeh"
      },
      "source": [
        "from keras.models import Sequential\n",
        "from keras.layers import Dense"
      ],
      "execution_count": 14,
      "outputs": []
    },
    {
      "cell_type": "markdown",
      "metadata": {
        "id": "4CJshIqvd3ra"
      },
      "source": [
        "### Loading the Dataset"
      ]
    },
    {
      "cell_type": "code",
      "metadata": {
        "id": "AClY44q5RCx3"
      },
      "source": [
        "data = load_breast_cancer()"
      ],
      "execution_count": 15,
      "outputs": []
    },
    {
      "cell_type": "markdown",
      "metadata": {
        "id": "K5o0682wgKal"
      },
      "source": [
        "### Viewing Keys of Dataset"
      ]
    },
    {
      "cell_type": "code",
      "metadata": {
        "colab": {
          "base_uri": "https://localhost:8080/"
        },
        "id": "sVkTfd6vRHlj",
        "outputId": "11d70448-9e1a-4b2a-c943-ea9f666b5f25"
      },
      "source": [
        "data.keys()"
      ],
      "execution_count": 16,
      "outputs": [
        {
          "output_type": "execute_result",
          "data": {
            "text/plain": [
              "dict_keys(['data', 'target', 'target_names', 'DESCR', 'feature_names', 'filename'])"
            ]
          },
          "metadata": {},
          "execution_count": 16
        }
      ]
    },
    {
      "cell_type": "code",
      "metadata": {
        "id": "oJqGqneNRKb0"
      },
      "source": [
        "#print(data['DESCR'])"
      ],
      "execution_count": 17,
      "outputs": []
    },
    {
      "cell_type": "code",
      "metadata": {
        "colab": {
          "base_uri": "https://localhost:8080/"
        },
        "id": "yx2_XaltROSr",
        "outputId": "20c2ca60-f271-49b2-cedf-7ce4e2aa2eb7"
      },
      "source": [
        "data['data'].shape"
      ],
      "execution_count": 18,
      "outputs": [
        {
          "output_type": "execute_result",
          "data": {
            "text/plain": [
              "(569, 30)"
            ]
          },
          "metadata": {},
          "execution_count": 18
        }
      ]
    },
    {
      "cell_type": "code",
      "metadata": {
        "colab": {
          "base_uri": "https://localhost:8080/"
        },
        "id": "PI7jyZkrRkn5",
        "outputId": "72025e67-ed66-48c1-a7c9-949ad121f079"
      },
      "source": [
        "data['feature_names']"
      ],
      "execution_count": 19,
      "outputs": [
        {
          "output_type": "execute_result",
          "data": {
            "text/plain": [
              "array(['mean radius', 'mean texture', 'mean perimeter', 'mean area',\n",
              "       'mean smoothness', 'mean compactness', 'mean concavity',\n",
              "       'mean concave points', 'mean symmetry', 'mean fractal dimension',\n",
              "       'radius error', 'texture error', 'perimeter error', 'area error',\n",
              "       'smoothness error', 'compactness error', 'concavity error',\n",
              "       'concave points error', 'symmetry error',\n",
              "       'fractal dimension error', 'worst radius', 'worst texture',\n",
              "       'worst perimeter', 'worst area', 'worst smoothness',\n",
              "       'worst compactness', 'worst concavity', 'worst concave points',\n",
              "       'worst symmetry', 'worst fractal dimension'], dtype='<U23')"
            ]
          },
          "metadata": {},
          "execution_count": 19
        }
      ]
    },
    {
      "cell_type": "code",
      "metadata": {
        "colab": {
          "base_uri": "https://localhost:8080/"
        },
        "id": "ufB7Bu2ERlN7",
        "outputId": "0db68fcd-efed-4ade-b1a3-3c65cc42a354"
      },
      "source": [
        "data['data'][0]"
      ],
      "execution_count": 20,
      "outputs": [
        {
          "output_type": "execute_result",
          "data": {
            "text/plain": [
              "array([1.799e+01, 1.038e+01, 1.228e+02, 1.001e+03, 1.184e-01, 2.776e-01,\n",
              "       3.001e-01, 1.471e-01, 2.419e-01, 7.871e-02, 1.095e+00, 9.053e-01,\n",
              "       8.589e+00, 1.534e+02, 6.399e-03, 4.904e-02, 5.373e-02, 1.587e-02,\n",
              "       3.003e-02, 6.193e-03, 2.538e+01, 1.733e+01, 1.846e+02, 2.019e+03,\n",
              "       1.622e-01, 6.656e-01, 7.119e-01, 2.654e-01, 4.601e-01, 1.189e-01])"
            ]
          },
          "metadata": {},
          "execution_count": 20
        }
      ]
    },
    {
      "cell_type": "code",
      "metadata": {
        "colab": {
          "base_uri": "https://localhost:8080/"
        },
        "id": "zkpcHf9RRvXl",
        "outputId": "8f6cad17-a632-4c9e-dd4d-3deea83f26c1"
      },
      "source": [
        "j = 0\n",
        "for i in data['feature_names']:\n",
        "  print(i,\":\",data['data'][0][j])\n",
        "  j+=1"
      ],
      "execution_count": 21,
      "outputs": [
        {
          "output_type": "stream",
          "name": "stdout",
          "text": [
            "mean radius : 17.99\n",
            "mean texture : 10.38\n",
            "mean perimeter : 122.8\n",
            "mean area : 1001.0\n",
            "mean smoothness : 0.1184\n",
            "mean compactness : 0.2776\n",
            "mean concavity : 0.3001\n",
            "mean concave points : 0.1471\n",
            "mean symmetry : 0.2419\n",
            "mean fractal dimension : 0.07871\n",
            "radius error : 1.095\n",
            "texture error : 0.9053\n",
            "perimeter error : 8.589\n",
            "area error : 153.4\n",
            "smoothness error : 0.006399\n",
            "compactness error : 0.04904\n",
            "concavity error : 0.05373\n",
            "concave points error : 0.01587\n",
            "symmetry error : 0.03003\n",
            "fractal dimension error : 0.006193\n",
            "worst radius : 25.38\n",
            "worst texture : 17.33\n",
            "worst perimeter : 184.6\n",
            "worst area : 2019.0\n",
            "worst smoothness : 0.1622\n",
            "worst compactness : 0.6656\n",
            "worst concavity : 0.7119\n",
            "worst concave points : 0.2654\n",
            "worst symmetry : 0.4601\n",
            "worst fractal dimension : 0.1189\n"
          ]
        }
      ]
    },
    {
      "cell_type": "code",
      "metadata": {
        "id": "wbpSbUS8RxqX"
      },
      "source": [
        "feature = data['data']"
      ],
      "execution_count": 22,
      "outputs": []
    },
    {
      "cell_type": "code",
      "metadata": {
        "id": "cyZsG873R1mW"
      },
      "source": [
        "label = data['target']"
      ],
      "execution_count": 23,
      "outputs": []
    },
    {
      "cell_type": "code",
      "metadata": {
        "colab": {
          "base_uri": "https://localhost:8080/"
        },
        "id": "VjC98KXZR855",
        "outputId": "3a2c08b0-973e-4e77-b50b-89b542e480e9"
      },
      "source": [
        "data['target_names']"
      ],
      "execution_count": 24,
      "outputs": [
        {
          "output_type": "execute_result",
          "data": {
            "text/plain": [
              "array(['malignant', 'benign'], dtype='<U9')"
            ]
          },
          "metadata": {},
          "execution_count": 24
        }
      ]
    },
    {
      "cell_type": "code",
      "metadata": {
        "colab": {
          "base_uri": "https://localhost:8080/"
        },
        "id": "2cBrhL5_R9AW",
        "outputId": "3fe104d3-9ea0-4240-aa50-808c25dc23f9"
      },
      "source": [
        "feature.shape"
      ],
      "execution_count": 25,
      "outputs": [
        {
          "output_type": "execute_result",
          "data": {
            "text/plain": [
              "(569, 30)"
            ]
          },
          "metadata": {},
          "execution_count": 25
        }
      ]
    },
    {
      "cell_type": "code",
      "metadata": {
        "colab": {
          "base_uri": "https://localhost:8080/"
        },
        "id": "cNrGzDxqSM-9",
        "outputId": "ef1d0ff3-822e-4c6c-85fc-5b4c70e15611"
      },
      "source": [
        "label.shape"
      ],
      "execution_count": 26,
      "outputs": [
        {
          "output_type": "execute_result",
          "data": {
            "text/plain": [
              "(569,)"
            ]
          },
          "metadata": {},
          "execution_count": 26
        }
      ]
    },
    {
      "cell_type": "code",
      "metadata": {
        "id": "geeqLniNSRWD"
      },
      "source": [
        "scale = StandardScaler()\n",
        "\n",
        "feature = scale.fit_transform(feature)"
      ],
      "execution_count": 27,
      "outputs": []
    },
    {
      "cell_type": "code",
      "metadata": {
        "colab": {
          "base_uri": "https://localhost:8080/"
        },
        "id": "8p0P2ff1SVCG",
        "outputId": "a1e6b141-3754-45f1-b745-e4bc385ba27c"
      },
      "source": [
        "j = 0\n",
        "for i in data['feature_names']:\n",
        "  print(i,\":\",feature[0][j])\n",
        "  j+=1"
      ],
      "execution_count": 28,
      "outputs": [
        {
          "output_type": "stream",
          "name": "stdout",
          "text": [
            "mean radius : 1.0970639814699807\n",
            "mean texture : -2.0733350146975935\n",
            "mean perimeter : 1.2699336881399383\n",
            "mean area : 0.9843749048031144\n",
            "mean smoothness : 1.568466329243428\n",
            "mean compactness : 3.2835146709868264\n",
            "mean concavity : 2.652873983743168\n",
            "mean concave points : 2.532475216403245\n",
            "mean symmetry : 2.2175150059646405\n",
            "mean fractal dimension : 2.255746885296269\n",
            "radius error : 2.4897339267376193\n",
            "texture error : -0.5652650590684639\n",
            "perimeter error : 2.833030865855184\n",
            "area error : 2.4875775569611043\n",
            "smoothness error : -0.21400164666895383\n",
            "compactness error : 1.3168615683959484\n",
            "concavity error : 0.72402615808036\n",
            "concave points error : 0.6608199414286064\n",
            "symmetry error : 1.1487566671861758\n",
            "fractal dimension error : 0.9070830809973359\n",
            "worst radius : 1.8866896251792757\n",
            "worst texture : -1.3592934737640827\n",
            "worst perimeter : 2.3036006236225606\n",
            "worst area : 2.0012374893299207\n",
            "worst smoothness : 1.3076862710715387\n",
            "worst compactness : 2.616665023512603\n",
            "worst concavity : 2.1095263465722556\n",
            "worst concave points : 2.296076127561788\n",
            "worst symmetry : 2.750622244124955\n",
            "worst fractal dimension : 1.9370146123781782\n"
          ]
        }
      ]
    },
    {
      "cell_type": "code",
      "metadata": {
        "colab": {
          "base_uri": "https://localhost:8080/"
        },
        "id": "x01iN13ySYqK",
        "outputId": "97e2b554-9664-48ed-bb0f-dbfd47bf61e4"
      },
      "source": [
        "print(feature[568])\n",
        "print(data['target_names'][label[568]],label[568])"
      ],
      "execution_count": 29,
      "outputs": [
        {
          "output_type": "stream",
          "name": "stdout",
          "text": [
            "[-1.80840125  1.22179204 -1.81438851 -1.34778924 -3.11208479 -1.15075248\n",
            " -1.11487284 -1.26181958 -0.8200699  -0.56103238 -0.07027874  0.3830925\n",
            " -0.15744905 -0.46615196  0.04934236 -1.16351619 -1.05750068 -1.91344745\n",
            "  0.75282996 -0.382754   -1.41089258  0.76418957 -1.43273495 -1.07581292\n",
            " -1.85901852 -1.2075525  -1.30583065 -1.74506282 -0.04813821 -0.75120669]\n",
            "benign 1\n"
          ]
        }
      ]
    },
    {
      "cell_type": "code",
      "metadata": {
        "id": "GlbXf-8NSe2F"
      },
      "source": [
        "df_frt = pd.DataFrame(feature , columns = data['feature_names'])\n",
        "df_lbl = pd.DataFrame(label , columns = ['label'])\n",
        "df = pd.concat([df_frt, df_lbl], axis=1)\n",
        "df = df.sample(frac = 1)\n",
        "\n",
        "feature = df.values[ : , : 30]\n",
        "label = df.values[ : ,30: ]"
      ],
      "execution_count": 30,
      "outputs": []
    },
    {
      "cell_type": "code",
      "metadata": {
        "colab": {
          "base_uri": "https://localhost:8080/",
          "height": 257
        },
        "id": "nVv_lTF_Se8m",
        "outputId": "9e0bde22-e715-4390-b61a-5b1f4c9a06e3"
      },
      "source": [
        "df.head()"
      ],
      "execution_count": 42,
      "outputs": [
        {
          "output_type": "execute_result",
          "data": {
            "text/html": [
              "<div>\n",
              "<style scoped>\n",
              "    .dataframe tbody tr th:only-of-type {\n",
              "        vertical-align: middle;\n",
              "    }\n",
              "\n",
              "    .dataframe tbody tr th {\n",
              "        vertical-align: top;\n",
              "    }\n",
              "\n",
              "    .dataframe thead th {\n",
              "        text-align: right;\n",
              "    }\n",
              "</style>\n",
              "<table border=\"1\" class=\"dataframe\">\n",
              "  <thead>\n",
              "    <tr style=\"text-align: right;\">\n",
              "      <th></th>\n",
              "      <th>mean radius</th>\n",
              "      <th>mean texture</th>\n",
              "      <th>mean perimeter</th>\n",
              "      <th>mean area</th>\n",
              "      <th>mean smoothness</th>\n",
              "      <th>mean compactness</th>\n",
              "      <th>mean concavity</th>\n",
              "      <th>mean concave points</th>\n",
              "      <th>mean symmetry</th>\n",
              "      <th>mean fractal dimension</th>\n",
              "      <th>radius error</th>\n",
              "      <th>texture error</th>\n",
              "      <th>perimeter error</th>\n",
              "      <th>area error</th>\n",
              "      <th>smoothness error</th>\n",
              "      <th>compactness error</th>\n",
              "      <th>concavity error</th>\n",
              "      <th>concave points error</th>\n",
              "      <th>symmetry error</th>\n",
              "      <th>fractal dimension error</th>\n",
              "      <th>worst radius</th>\n",
              "      <th>worst texture</th>\n",
              "      <th>worst perimeter</th>\n",
              "      <th>worst area</th>\n",
              "      <th>worst smoothness</th>\n",
              "      <th>worst compactness</th>\n",
              "      <th>worst concavity</th>\n",
              "      <th>worst concave points</th>\n",
              "      <th>worst symmetry</th>\n",
              "      <th>worst fractal dimension</th>\n",
              "      <th>label</th>\n",
              "    </tr>\n",
              "  </thead>\n",
              "  <tbody>\n",
              "    <tr>\n",
              "      <th>521</th>\n",
              "      <td>2.982918</td>\n",
              "      <td>0.537634</td>\n",
              "      <td>3.028755</td>\n",
              "      <td>3.373421</td>\n",
              "      <td>0.472519</td>\n",
              "      <td>2.013766</td>\n",
              "      <td>1.785325</td>\n",
              "      <td>2.532475</td>\n",
              "      <td>0.654911</td>\n",
              "      <td>0.651019</td>\n",
              "      <td>2.116181</td>\n",
              "      <td>-0.574155</td>\n",
              "      <td>2.071179</td>\n",
              "      <td>2.190554</td>\n",
              "      <td>-0.684021</td>\n",
              "      <td>0.371211</td>\n",
              "      <td>0.126537</td>\n",
              "      <td>0.677041</td>\n",
              "      <td>-0.212166</td>\n",
              "      <td>0.365049</td>\n",
              "      <td>2.826844</td>\n",
              "      <td>0.204007</td>\n",
              "      <td>2.932082</td>\n",
              "      <td>3.096417</td>\n",
              "      <td>0.080281</td>\n",
              "      <td>1.046672</td>\n",
              "      <td>0.928856</td>\n",
              "      <td>2.023520</td>\n",
              "      <td>0.414547</td>\n",
              "      <td>0.707338</td>\n",
              "      <td>0</td>\n",
              "    </tr>\n",
              "    <tr>\n",
              "      <th>180</th>\n",
              "      <td>3.718515</td>\n",
              "      <td>0.600465</td>\n",
              "      <td>3.712513</td>\n",
              "      <td>4.536659</td>\n",
              "      <td>0.927977</td>\n",
              "      <td>1.649897</td>\n",
              "      <td>2.489659</td>\n",
              "      <td>3.582290</td>\n",
              "      <td>-0.042419</td>\n",
              "      <td>-0.722639</td>\n",
              "      <td>1.555309</td>\n",
              "      <td>0.479253</td>\n",
              "      <td>1.462291</td>\n",
              "      <td>1.944135</td>\n",
              "      <td>-0.803359</td>\n",
              "      <td>-0.006044</td>\n",
              "      <td>-0.026649</td>\n",
              "      <td>0.099574</td>\n",
              "      <td>-0.580244</td>\n",
              "      <td>-0.396371</td>\n",
              "      <td>3.489508</td>\n",
              "      <td>1.168042</td>\n",
              "      <td>3.381848</td>\n",
              "      <td>4.105459</td>\n",
              "      <td>0.650148</td>\n",
              "      <td>0.948707</td>\n",
              "      <td>1.256047</td>\n",
              "      <td>2.347847</td>\n",
              "      <td>-0.072405</td>\n",
              "      <td>-0.173220</td>\n",
              "      <td>0</td>\n",
              "    </tr>\n",
              "    <tr>\n",
              "      <th>230</th>\n",
              "      <td>0.830091</td>\n",
              "      <td>-0.048787</td>\n",
              "      <td>0.882746</td>\n",
              "      <td>0.682900</td>\n",
              "      <td>1.262455</td>\n",
              "      <td>1.001757</td>\n",
              "      <td>1.283127</td>\n",
              "      <td>1.549724</td>\n",
              "      <td>1.166043</td>\n",
              "      <td>0.064131</td>\n",
              "      <td>-0.394386</td>\n",
              "      <td>-0.975851</td>\n",
              "      <td>-0.352986</td>\n",
              "      <td>-0.183870</td>\n",
              "      <td>-0.503013</td>\n",
              "      <td>-0.301699</td>\n",
              "      <td>-0.044554</td>\n",
              "      <td>0.331534</td>\n",
              "      <td>-1.062137</td>\n",
              "      <td>-0.551832</td>\n",
              "      <td>0.687682</td>\n",
              "      <td>-0.128194</td>\n",
              "      <td>0.781544</td>\n",
              "      <td>0.542170</td>\n",
              "      <td>1.662757</td>\n",
              "      <td>0.885093</td>\n",
              "      <td>1.101567</td>\n",
              "      <td>2.127061</td>\n",
              "      <td>0.336894</td>\n",
              "      <td>0.369301</td>\n",
              "      <td>0</td>\n",
              "    </tr>\n",
              "    <tr>\n",
              "      <th>61</th>\n",
              "      <td>-1.570397</td>\n",
              "      <td>0.393356</td>\n",
              "      <td>-1.536767</td>\n",
              "      <td>-1.231750</td>\n",
              "      <td>1.988342</td>\n",
              "      <td>-0.278795</td>\n",
              "      <td>-0.738224</td>\n",
              "      <td>-1.022993</td>\n",
              "      <td>0.059807</td>\n",
              "      <td>0.676536</td>\n",
              "      <td>-0.169532</td>\n",
              "      <td>1.542458</td>\n",
              "      <td>-0.184676</td>\n",
              "      <td>-0.482873</td>\n",
              "      <td>1.629740</td>\n",
              "      <td>0.343266</td>\n",
              "      <td>-0.062790</td>\n",
              "      <td>-0.411548</td>\n",
              "      <td>1.577375</td>\n",
              "      <td>-0.282517</td>\n",
              "      <td>-1.388321</td>\n",
              "      <td>0.221920</td>\n",
              "      <td>-1.346356</td>\n",
              "      <td>-1.066496</td>\n",
              "      <td>1.382207</td>\n",
              "      <td>-0.537316</td>\n",
              "      <td>-0.874006</td>\n",
              "      <td>-1.322068</td>\n",
              "      <td>0.115258</td>\n",
              "      <td>-0.378258</td>\n",
              "      <td>1</td>\n",
              "    </tr>\n",
              "    <tr>\n",
              "      <th>48</th>\n",
              "      <td>-0.589980</td>\n",
              "      <td>-1.084331</td>\n",
              "      <td>-0.573740</td>\n",
              "      <td>-0.584717</td>\n",
              "      <td>0.479635</td>\n",
              "      <td>-0.254348</td>\n",
              "      <td>-0.287249</td>\n",
              "      <td>-0.552743</td>\n",
              "      <td>-0.498787</td>\n",
              "      <td>-0.335633</td>\n",
              "      <td>-0.510963</td>\n",
              "      <td>-0.884408</td>\n",
              "      <td>-0.503970</td>\n",
              "      <td>-0.450311</td>\n",
              "      <td>-0.517681</td>\n",
              "      <td>-0.626418</td>\n",
              "      <td>-0.287595</td>\n",
              "      <td>-0.995341</td>\n",
              "      <td>-0.758230</td>\n",
              "      <td>-0.519303</td>\n",
              "      <td>-0.519609</td>\n",
              "      <td>-0.810510</td>\n",
              "      <td>-0.517714</td>\n",
              "      <td>-0.523828</td>\n",
              "      <td>0.746587</td>\n",
              "      <td>-0.245964</td>\n",
              "      <td>0.157414</td>\n",
              "      <td>-0.748025</td>\n",
              "      <td>-0.248743</td>\n",
              "      <td>-0.051859</td>\n",
              "      <td>1</td>\n",
              "    </tr>\n",
              "  </tbody>\n",
              "</table>\n",
              "</div>"
            ],
            "text/plain": [
              "     mean radius  mean texture  ...  worst fractal dimension  label\n",
              "521     2.982918      0.537634  ...                 0.707338      0\n",
              "180     3.718515      0.600465  ...                -0.173220      0\n",
              "230     0.830091     -0.048787  ...                 0.369301      0\n",
              "61     -1.570397      0.393356  ...                -0.378258      1\n",
              "48     -0.589980     -1.084331  ...                -0.051859      1\n",
              "\n",
              "[5 rows x 31 columns]"
            ]
          },
          "metadata": {},
          "execution_count": 42
        }
      ]
    },
    {
      "cell_type": "code",
      "metadata": {
        "id": "LBUBJ8r8SiO3"
      },
      "source": [
        "#500 Training\n",
        "X_train = feature[:500]\n",
        "y_train = label[:500]\n",
        "\n",
        "#35 Validation\n",
        "X_val = feature[500:535]\n",
        "y_val = label[500:535]\n",
        "\n",
        "#34 Testing\n",
        "X_test = feature[535:]\n",
        "y_test = label[535:]"
      ],
      "execution_count": 32,
      "outputs": []
    },
    {
      "cell_type": "code",
      "metadata": {
        "id": "CKEs8HwzStBM"
      },
      "source": [
        "model = Sequential()\n",
        "\n",
        "model.add(Dense(32, activation = 'relu', input_dim = 30))\n",
        "model.add(Dense(64, activation = 'relu'))\n",
        "model.add(Dense(128, activation = 'relu'))\n",
        "model.add(Dense(64, activation = 'relu'))\n",
        "model.add(Dense(32, activation = 'relu'))\n",
        "model.add(Dense(1, activation = 'sigmoid'))\n",
        "\n",
        "model.compile( loss = 'binary_crossentropy' , optimizer = 'adam' , metrics = ['accuracy'])"
      ],
      "execution_count": 33,
      "outputs": []
    },
    {
      "cell_type": "code",
      "metadata": {
        "colab": {
          "base_uri": "https://localhost:8080/"
        },
        "id": "xrCsQQ_QStEp",
        "outputId": "d54b5416-7669-4706-cc35-cd20c2866179"
      },
      "source": [
        "model.fit( X_train , y_train, epochs = 10, batch_size = 5, validation_data = (X_val, y_val))"
      ],
      "execution_count": 34,
      "outputs": [
        {
          "output_type": "stream",
          "name": "stdout",
          "text": [
            "Epoch 1/10\n",
            "100/100 [==============================] - 1s 4ms/step - loss: 0.1962 - accuracy: 0.9540 - val_loss: 0.3105 - val_accuracy: 0.9143\n",
            "Epoch 2/10\n",
            "100/100 [==============================] - 0s 2ms/step - loss: 0.0525 - accuracy: 0.9780 - val_loss: 0.2373 - val_accuracy: 0.9429\n",
            "Epoch 3/10\n",
            "100/100 [==============================] - 0s 2ms/step - loss: 0.0366 - accuracy: 0.9900 - val_loss: 0.1854 - val_accuracy: 0.9714\n",
            "Epoch 4/10\n",
            "100/100 [==============================] - 0s 2ms/step - loss: 0.0399 - accuracy: 0.9900 - val_loss: 0.1672 - val_accuracy: 0.9714\n",
            "Epoch 5/10\n",
            "100/100 [==============================] - 0s 2ms/step - loss: 0.0189 - accuracy: 0.9960 - val_loss: 0.2315 - val_accuracy: 0.9714\n",
            "Epoch 6/10\n",
            "100/100 [==============================] - 0s 2ms/step - loss: 0.0253 - accuracy: 0.9940 - val_loss: 0.2186 - val_accuracy: 0.9714\n",
            "Epoch 7/10\n",
            "100/100 [==============================] - 0s 2ms/step - loss: 0.0196 - accuracy: 0.9940 - val_loss: 0.2073 - val_accuracy: 0.9714\n",
            "Epoch 8/10\n",
            "100/100 [==============================] - 0s 3ms/step - loss: 0.0422 - accuracy: 0.9920 - val_loss: 0.3598 - val_accuracy: 0.9143\n",
            "Epoch 9/10\n",
            "100/100 [==============================] - 0s 2ms/step - loss: 0.0520 - accuracy: 0.9800 - val_loss: 0.2447 - val_accuracy: 0.9714\n",
            "Epoch 10/10\n",
            "100/100 [==============================] - 0s 2ms/step - loss: 0.0116 - accuracy: 0.9980 - val_loss: 0.3088 - val_accuracy: 0.9714\n"
          ]
        },
        {
          "output_type": "execute_result",
          "data": {
            "text/plain": [
              "<keras.callbacks.History at 0x7fba7eebda10>"
            ]
          },
          "metadata": {},
          "execution_count": 34
        }
      ]
    },
    {
      "cell_type": "code",
      "metadata": {
        "colab": {
          "base_uri": "https://localhost:8080/"
        },
        "id": "2yFxsX50S0IA",
        "outputId": "c7b1de06-ae4c-47a2-f1d6-cdf0302ee3f7"
      },
      "source": [
        "model.evaluate(X_test , y_test)"
      ],
      "execution_count": 35,
      "outputs": [
        {
          "output_type": "stream",
          "name": "stdout",
          "text": [
            "2/2 [==============================] - 0s 5ms/step - loss: 0.1336 - accuracy: 0.9706\n"
          ]
        },
        {
          "output_type": "execute_result",
          "data": {
            "text/plain": [
              "[0.1335509717464447, 0.970588207244873]"
            ]
          },
          "metadata": {},
          "execution_count": 35
        }
      ]
    },
    {
      "cell_type": "code",
      "metadata": {
        "colab": {
          "base_uri": "https://localhost:8080/"
        },
        "id": "EIgTleyIS0Lp",
        "outputId": "2829b455-a5d2-43ab-f847-d938c8dc465f"
      },
      "source": [
        "model.evaluate(X_val , y_val)"
      ],
      "execution_count": 36,
      "outputs": [
        {
          "output_type": "stream",
          "name": "stdout",
          "text": [
            "2/2 [==============================] - 0s 6ms/step - loss: 0.3088 - accuracy: 0.9714\n"
          ]
        },
        {
          "output_type": "execute_result",
          "data": {
            "text/plain": [
              "[0.3088086247444153, 0.9714285731315613]"
            ]
          },
          "metadata": {},
          "execution_count": 36
        }
      ]
    },
    {
      "cell_type": "code",
      "metadata": {
        "colab": {
          "base_uri": "https://localhost:8080/"
        },
        "id": "Vdn4-nmYS0SH",
        "outputId": "a06dd2c1-b558-4c2d-f409-d49fd792f7ea"
      },
      "source": [
        "for i in range(30):\n",
        "  sample = X_test[i]\n",
        "  sample = np.reshape(sample, (1,30))\n",
        "\n",
        "  if (model.predict(sample)[0][0] > 0.5):\n",
        "    print(\"-Benign\")\n",
        "  else:\n",
        "    print(\"-Malignant\")\n",
        "\n",
        "  if (y_test[i] == 1):\n",
        "    print(\"*Banign\")\n",
        "  else:\n",
        "    print(\"*Melignant\")\n",
        "  print(\"-----------------\")"
      ],
      "execution_count": 37,
      "outputs": [
        {
          "output_type": "stream",
          "name": "stdout",
          "text": [
            "-Malignant\n",
            "*Melignant\n",
            "-----------------\n",
            "-Benign\n",
            "*Banign\n",
            "-----------------\n",
            "-Benign\n",
            "*Banign\n",
            "-----------------\n",
            "-Benign\n",
            "*Banign\n",
            "-----------------\n",
            "-Malignant\n",
            "*Melignant\n",
            "-----------------\n",
            "-Malignant\n",
            "*Melignant\n",
            "-----------------\n",
            "-Benign\n",
            "*Banign\n",
            "-----------------\n",
            "-Benign\n",
            "*Banign\n",
            "-----------------\n",
            "-Malignant\n",
            "*Melignant\n",
            "-----------------\n",
            "-Benign\n",
            "*Banign\n",
            "-----------------\n",
            "-Benign\n",
            "*Banign\n",
            "-----------------\n",
            "-Benign\n",
            "*Melignant\n",
            "-----------------\n",
            "-Malignant\n",
            "*Melignant\n",
            "-----------------\n",
            "-Malignant\n",
            "*Melignant\n",
            "-----------------\n",
            "-Benign\n",
            "*Banign\n",
            "-----------------\n",
            "-Benign\n",
            "*Banign\n",
            "-----------------\n",
            "-Benign\n",
            "*Banign\n",
            "-----------------\n",
            "-Malignant\n",
            "*Melignant\n",
            "-----------------\n",
            "-Malignant\n",
            "*Melignant\n",
            "-----------------\n",
            "-Benign\n",
            "*Banign\n",
            "-----------------\n",
            "-Benign\n",
            "*Banign\n",
            "-----------------\n",
            "-Malignant\n",
            "*Melignant\n",
            "-----------------\n",
            "-Malignant\n",
            "*Melignant\n",
            "-----------------\n",
            "-Benign\n",
            "*Banign\n",
            "-----------------\n",
            "-Benign\n",
            "*Banign\n",
            "-----------------\n",
            "-Benign\n",
            "*Banign\n",
            "-----------------\n",
            "-Malignant\n",
            "*Melignant\n",
            "-----------------\n",
            "-Benign\n",
            "*Banign\n",
            "-----------------\n",
            "-Benign\n",
            "*Banign\n",
            "-----------------\n",
            "-Benign\n",
            "*Banign\n",
            "-----------------\n"
          ]
        }
      ]
    },
    {
      "cell_type": "code",
      "metadata": {
        "colab": {
          "base_uri": "https://localhost:8080/"
        },
        "id": "2oSqCuksTC53",
        "outputId": "eafa1504-8a48-414f-9247-732d3e176911"
      },
      "source": [
        "t = 0\n",
        "for i in y_val:\n",
        "  if (i == 1):\n",
        "    t += 1\n",
        "\n",
        "print(t)\n",
        "\n",
        "t = 0\n",
        "for i in y_test:\n",
        "  if (i == 1):\n",
        "    t += 1\n",
        "\n",
        "print(t)"
      ],
      "execution_count": 38,
      "outputs": [
        {
          "output_type": "stream",
          "name": "stdout",
          "text": [
            "22\n",
            "21\n"
          ]
        }
      ]
    },
    {
      "cell_type": "code",
      "metadata": {
        "colab": {
          "base_uri": "https://localhost:8080/"
        },
        "id": "8tb28W1YTRCi",
        "outputId": "dc7acca4-41a4-4340-becd-2d48b8994ba8"
      },
      "source": [
        "X_test[0] * -.1"
      ],
      "execution_count": 39,
      "outputs": [
        {
          "output_type": "execute_result",
          "data": {
            "text/plain": [
              "array([-0.21109947, -0.07214726, -0.20607855, -0.2343856 , -0.10418421,\n",
              "       -0.02190605, -0.19472846, -0.23209646,  0.03125888,  0.0931027 ,\n",
              "       -0.27820799, -0.00710253, -0.23795828, -0.26041866, -0.10863844,\n",
              "       -0.01918051, -0.06660014, -0.20671777,  0.11384163, -0.016798  ,\n",
              "       -0.19011854, -0.01176997, -0.17525626, -0.20153008, -0.03783654,\n",
              "        0.02733177, -0.06645123, -0.16291512,  0.13601583,  0.07090907])"
            ]
          },
          "metadata": {},
          "execution_count": 39
        }
      ]
    },
    {
      "cell_type": "code",
      "metadata": {
        "colab": {
          "base_uri": "https://localhost:8080/"
        },
        "id": "uEqYtJ_BVCJE",
        "outputId": "222742f4-bbcb-458a-f065-e3af5d3e6369"
      },
      "source": [
        "df['label']"
      ],
      "execution_count": 47,
      "outputs": [
        {
          "output_type": "execute_result",
          "data": {
            "text/plain": [
              "521    0\n",
              "180    0\n",
              "230    0\n",
              "61     1\n",
              "48     1\n",
              "      ..\n",
              "440    1\n",
              "155    1\n",
              "185    1\n",
              "256    0\n",
              "560    1\n",
              "Name: label, Length: 569, dtype: int64"
            ]
          },
          "metadata": {},
          "execution_count": 47
        }
      ]
    },
    {
      "cell_type": "code",
      "metadata": {
        "id": "Fegg0gOGV_Rp"
      },
      "source": [
        ""
      ],
      "execution_count": null,
      "outputs": []
    }
  ]
}